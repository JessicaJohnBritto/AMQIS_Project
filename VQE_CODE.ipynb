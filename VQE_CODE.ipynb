{
  "nbformat": 4,
  "nbformat_minor": 0,
  "metadata": {
    "colab": {
      "provenance": []
    },
    "kernelspec": {
      "name": "python3",
      "display_name": "Python 3"
    },
    "language_info": {
      "name": "python"
    }
  },
  "cells": [
    {
      "cell_type": "code",
      "execution_count": null,
      "metadata": {
        "colab": {
          "base_uri": "https://localhost:8080/"
        },
        "id": "QmhoGccpSuVp",
        "outputId": "95079f25-9a97-429c-f211-f001b5fff8a0"
      },
      "outputs": [
        {
          "output_type": "stream",
          "name": "stdout",
          "text": [
            "Looking in indexes: https://pypi.org/simple, https://us-python.pkg.dev/colab-wheels/public/simple/\n",
            "Requirement already satisfied: qiskit==0.37.2 in /usr/local/lib/python3.9/dist-packages (0.37.2)\n",
            "Requirement already satisfied: qiskit-ibmq-provider==0.19.2 in /usr/local/lib/python3.9/dist-packages (from qiskit==0.37.2) (0.19.2)\n",
            "Requirement already satisfied: qiskit-aer==0.10.4 in /usr/local/lib/python3.9/dist-packages (from qiskit==0.37.2) (0.10.4)\n",
            "Requirement already satisfied: qiskit-terra==0.21.2 in /usr/local/lib/python3.9/dist-packages (from qiskit==0.37.2) (0.21.2)\n",
            "Requirement already satisfied: numpy>=1.16.3 in /usr/local/lib/python3.9/dist-packages (from qiskit-aer==0.10.4->qiskit==0.37.2) (1.22.4)\n",
            "Requirement already satisfied: scipy>=1.0 in /usr/local/lib/python3.9/dist-packages (from qiskit-aer==0.10.4->qiskit==0.37.2) (1.10.1)\n",
            "Requirement already satisfied: python-dateutil>=2.8.0 in /usr/local/lib/python3.9/dist-packages (from qiskit-ibmq-provider==0.19.2->qiskit==0.37.2) (2.8.2)\n",
            "Requirement already satisfied: urllib3>=1.21.1 in /usr/local/lib/python3.9/dist-packages (from qiskit-ibmq-provider==0.19.2->qiskit==0.37.2) (1.26.15)\n",
            "Requirement already satisfied: requests-ntlm>=1.1.0 in /usr/local/lib/python3.9/dist-packages (from qiskit-ibmq-provider==0.19.2->qiskit==0.37.2) (1.2.0)\n",
            "Requirement already satisfied: websocket-client>=1.0.1 in /usr/local/lib/python3.9/dist-packages (from qiskit-ibmq-provider==0.19.2->qiskit==0.37.2) (1.5.1)\n",
            "Requirement already satisfied: websockets>=10.0 in /usr/local/lib/python3.9/dist-packages (from qiskit-ibmq-provider==0.19.2->qiskit==0.37.2) (11.0.1)\n",
            "Requirement already satisfied: requests>=2.19 in /usr/local/lib/python3.9/dist-packages (from qiskit-ibmq-provider==0.19.2->qiskit==0.37.2) (2.27.1)\n",
            "Requirement already satisfied: psutil>=5 in /usr/local/lib/python3.9/dist-packages (from qiskit-terra==0.21.2->qiskit==0.37.2) (5.9.4)\n",
            "Requirement already satisfied: ply>=3.10 in /usr/local/lib/python3.9/dist-packages (from qiskit-terra==0.21.2->qiskit==0.37.2) (3.11)\n",
            "Requirement already satisfied: retworkx>=0.11.0 in /usr/local/lib/python3.9/dist-packages (from qiskit-terra==0.21.2->qiskit==0.37.2) (0.12.1)\n",
            "Requirement already satisfied: dill>=0.3 in /usr/local/lib/python3.9/dist-packages (from qiskit-terra==0.21.2->qiskit==0.37.2) (0.3.6)\n",
            "Requirement already satisfied: sympy>=1.3 in /usr/local/lib/python3.9/dist-packages (from qiskit-terra==0.21.2->qiskit==0.37.2) (1.11.1)\n",
            "Requirement already satisfied: tweedledum<2.0,>=1.1 in /usr/local/lib/python3.9/dist-packages (from qiskit-terra==0.21.2->qiskit==0.37.2) (1.1.1)\n",
            "Requirement already satisfied: symengine>=0.9 in /usr/local/lib/python3.9/dist-packages (from qiskit-terra==0.21.2->qiskit==0.37.2) (0.10.0)\n",
            "Requirement already satisfied: stevedore>=3.0.0 in /usr/local/lib/python3.9/dist-packages (from qiskit-terra==0.21.2->qiskit==0.37.2) (5.0.0)\n",
            "Requirement already satisfied: six>=1.5 in /usr/local/lib/python3.9/dist-packages (from python-dateutil>=2.8.0->qiskit-ibmq-provider==0.19.2->qiskit==0.37.2) (1.16.0)\n",
            "Requirement already satisfied: charset-normalizer~=2.0.0 in /usr/local/lib/python3.9/dist-packages (from requests>=2.19->qiskit-ibmq-provider==0.19.2->qiskit==0.37.2) (2.0.12)\n",
            "Requirement already satisfied: certifi>=2017.4.17 in /usr/local/lib/python3.9/dist-packages (from requests>=2.19->qiskit-ibmq-provider==0.19.2->qiskit==0.37.2) (2022.12.7)\n",
            "Requirement already satisfied: idna<4,>=2.5 in /usr/local/lib/python3.9/dist-packages (from requests>=2.19->qiskit-ibmq-provider==0.19.2->qiskit==0.37.2) (3.4)\n",
            "Requirement already satisfied: pyspnego>=0.1.6 in /usr/local/lib/python3.9/dist-packages (from requests-ntlm>=1.1.0->qiskit-ibmq-provider==0.19.2->qiskit==0.37.2) (0.8.0)\n",
            "Requirement already satisfied: cryptography>=1.3 in /usr/local/lib/python3.9/dist-packages (from requests-ntlm>=1.1.0->qiskit-ibmq-provider==0.19.2->qiskit==0.37.2) (40.0.1)\n",
            "Requirement already satisfied: rustworkx==0.12.1 in /usr/local/lib/python3.9/dist-packages (from retworkx>=0.11.0->qiskit-terra==0.21.2->qiskit==0.37.2) (0.12.1)\n",
            "Requirement already satisfied: pbr!=2.1.0,>=2.0.0 in /usr/local/lib/python3.9/dist-packages (from stevedore>=3.0.0->qiskit-terra==0.21.2->qiskit==0.37.2) (5.11.1)\n",
            "Requirement already satisfied: mpmath>=0.19 in /usr/local/lib/python3.9/dist-packages (from sympy>=1.3->qiskit-terra==0.21.2->qiskit==0.37.2) (1.3.0)\n",
            "Requirement already satisfied: cffi>=1.12 in /usr/local/lib/python3.9/dist-packages (from cryptography>=1.3->requests-ntlm>=1.1.0->qiskit-ibmq-provider==0.19.2->qiskit==0.37.2) (1.15.1)\n",
            "Requirement already satisfied: pycparser in /usr/local/lib/python3.9/dist-packages (from cffi>=1.12->cryptography>=1.3->requests-ntlm>=1.1.0->qiskit-ibmq-provider==0.19.2->qiskit==0.37.2) (2.21)\n",
            "Looking in indexes: https://pypi.org/simple, https://us-python.pkg.dev/colab-wheels/public/simple/\n",
            "Requirement already satisfied: qiskit-nature==0.4.1 in /usr/local/lib/python3.9/dist-packages (0.4.1)\n",
            "Requirement already satisfied: retworkx>=0.10.1 in /usr/local/lib/python3.9/dist-packages (from qiskit-nature==0.4.1) (0.12.1)\n",
            "Requirement already satisfied: qiskit-terra>=0.20.0 in /usr/local/lib/python3.9/dist-packages (from qiskit-nature==0.4.1) (0.21.2)\n",
            "Requirement already satisfied: setuptools>=40.1.0 in /usr/local/lib/python3.9/dist-packages (from qiskit-nature==0.4.1) (67.6.1)\n",
            "Requirement already satisfied: scikit-learn>=0.20.0 in /usr/local/lib/python3.9/dist-packages (from qiskit-nature==0.4.1) (1.2.2)\n",
            "Requirement already satisfied: typing-extensions in /usr/local/lib/python3.9/dist-packages (from qiskit-nature==0.4.1) (4.5.0)\n",
            "Requirement already satisfied: numpy>=1.17 in /usr/local/lib/python3.9/dist-packages (from qiskit-nature==0.4.1) (1.22.4)\n",
            "Requirement already satisfied: scipy>=1.4 in /usr/local/lib/python3.9/dist-packages (from qiskit-nature==0.4.1) (1.10.1)\n",
            "Requirement already satisfied: psutil>=5 in /usr/local/lib/python3.9/dist-packages (from qiskit-nature==0.4.1) (5.9.4)\n",
            "Requirement already satisfied: h5py in /usr/local/lib/python3.9/dist-packages (from qiskit-nature==0.4.1) (3.8.0)\n",
            "Requirement already satisfied: python-dateutil>=2.8.0 in /usr/local/lib/python3.9/dist-packages (from qiskit-terra>=0.20.0->qiskit-nature==0.4.1) (2.8.2)\n",
            "Requirement already satisfied: stevedore>=3.0.0 in /usr/local/lib/python3.9/dist-packages (from qiskit-terra>=0.20.0->qiskit-nature==0.4.1) (5.0.0)\n",
            "Requirement already satisfied: tweedledum<2.0,>=1.1 in /usr/local/lib/python3.9/dist-packages (from qiskit-terra>=0.20.0->qiskit-nature==0.4.1) (1.1.1)\n",
            "Requirement already satisfied: sympy>=1.3 in /usr/local/lib/python3.9/dist-packages (from qiskit-terra>=0.20.0->qiskit-nature==0.4.1) (1.11.1)\n",
            "Requirement already satisfied: symengine>=0.9 in /usr/local/lib/python3.9/dist-packages (from qiskit-terra>=0.20.0->qiskit-nature==0.4.1) (0.10.0)\n",
            "Requirement already satisfied: ply>=3.10 in /usr/local/lib/python3.9/dist-packages (from qiskit-terra>=0.20.0->qiskit-nature==0.4.1) (3.11)\n",
            "Requirement already satisfied: dill>=0.3 in /usr/local/lib/python3.9/dist-packages (from qiskit-terra>=0.20.0->qiskit-nature==0.4.1) (0.3.6)\n",
            "Requirement already satisfied: rustworkx==0.12.1 in /usr/local/lib/python3.9/dist-packages (from retworkx>=0.10.1->qiskit-nature==0.4.1) (0.12.1)\n",
            "Requirement already satisfied: threadpoolctl>=2.0.0 in /usr/local/lib/python3.9/dist-packages (from scikit-learn>=0.20.0->qiskit-nature==0.4.1) (3.1.0)\n",
            "Requirement already satisfied: joblib>=1.1.1 in /usr/local/lib/python3.9/dist-packages (from scikit-learn>=0.20.0->qiskit-nature==0.4.1) (1.1.1)\n",
            "Requirement already satisfied: six>=1.5 in /usr/local/lib/python3.9/dist-packages (from python-dateutil>=2.8.0->qiskit-terra>=0.20.0->qiskit-nature==0.4.1) (1.16.0)\n",
            "Requirement already satisfied: pbr!=2.1.0,>=2.0.0 in /usr/local/lib/python3.9/dist-packages (from stevedore>=3.0.0->qiskit-terra>=0.20.0->qiskit-nature==0.4.1) (5.11.1)\n",
            "Requirement already satisfied: mpmath>=0.19 in /usr/local/lib/python3.9/dist-packages (from sympy>=1.3->qiskit-terra>=0.20.0->qiskit-nature==0.4.1) (1.3.0)\n",
            "Looking in indexes: https://pypi.org/simple, https://us-python.pkg.dev/colab-wheels/public/simple/\n",
            "Requirement already satisfied: pyscf in /usr/local/lib/python3.9/dist-packages (2.2.1)\n",
            "Requirement already satisfied: scipy!=1.5.0,!=1.5.1 in /usr/local/lib/python3.9/dist-packages (from pyscf) (1.10.1)\n",
            "Requirement already satisfied: h5py>=2.7 in /usr/local/lib/python3.9/dist-packages (from pyscf) (3.8.0)\n",
            "Requirement already satisfied: numpy!=1.16,!=1.17,>=1.13 in /usr/local/lib/python3.9/dist-packages (from pyscf) (1.22.4)\n"
          ]
        }
      ],
      "source": [
        "!pip install qiskit==0.37.2\n",
        "!pip install qiskit-nature==0.4.1\n",
        "!pip install pyscf"
      ]
    },
    {
      "cell_type": "code",
      "source": [
        "# pylint: disable=line-too-long\n",
        "from qiskit.algorithms import VQE\n",
        "from qiskit_nature.algorithms import (GroundStateEigensolver,\n",
        "                                      NumPyMinimumEigensolverFactory)\n",
        "from qiskit_nature.drivers import Molecule\n",
        "from qiskit_nature.drivers.second_quantization import (\n",
        "    ElectronicStructureMoleculeDriver, ElectronicStructureDriverType)\n",
        "from qiskit_nature.transformers.second_quantization.electronic import FreezeCoreTransformer\n",
        "from qiskit_nature.problems.second_quantization import ElectronicStructureProblem\n",
        "from qiskit_nature.converters.second_quantization import QubitConverter\n",
        "from qiskit_nature.mappers.second_quantization import ParityMapper\n",
        "# pylint: enable=line-too-long\n",
        "\n",
        "import matplotlib.pyplot as plt\n",
        "import numpy as np\n",
        "from qiskit_nature.circuit.library import UCCSD, HartreeFock\n",
        "from qiskit.circuit.library import EfficientSU2\n",
        "from qiskit.algorithms.optimizers import COBYLA, SPSA, SLSQP\n",
        "from qiskit.opflow import TwoQubitReduction\n",
        "from qiskit import BasicAer, Aer\n",
        "from qiskit.utils import QuantumInstance\n",
        "from qiskit.utils.mitigation import CompleteMeasFitter\n",
        "from qiskit.providers.aer.noise import NoiseModel"
      ],
      "metadata": {
        "id": "BdszCQvgg5i-"
      },
      "execution_count": null,
      "outputs": []
    },
    {
      "cell_type": "code",
      "source": [
        "def exact_solver(problem, converter):\n",
        "    solver = NumPyMinimumEigensolverFactory()\n",
        "    calc = GroundStateEigensolver(converter, solver)\n",
        "    result = calc.solve(problem)\n",
        "    return result"
      ],
      "metadata": {
        "id": "_h6Q20SKiUD4"
      },
      "execution_count": null,
      "outputs": []
    },
    {
      "cell_type": "code",
      "source": [
        "molecule = Molecule(\n",
        "    geometry=[[\"H\", [0.0, 0.0, -0.3625]],\n",
        "              [\"H\", [0.0, 0.0, 0.3625]]],\n",
        "    multiplicity=1,charge=0)\n",
        "\n",
        "driver = ElectronicStructureMoleculeDriver(\n",
        "    molecule=molecule,\n",
        "    basis=\"sto3g\",\n",
        "    driver_type=ElectronicStructureDriverType.PYSCF)\n",
        "\n",
        "problem = ElectronicStructureProblem(driver)\n",
        "\n",
        "second_q_ops = problem.second_q_ops()  # Get 2nd Quant OP\n",
        "num_spin_orbitals = problem.num_spin_orbitals\n",
        "num_particles = problem.num_particles\n",
        "\n",
        "mapper = ParityMapper()  # Set Mapper\n",
        "\n",
        "hamiltonian = second_q_ops[0]  # Set Hamiltonian\n",
        "\n",
        "# Do two qubit reduction\n",
        "converter = QubitConverter(mapper,two_qubit_reduction=True)\n",
        "reducer = TwoQubitReduction(num_particles)\n",
        "qubit_op = converter.convert(hamiltonian)\n",
        "qubit_op = reducer.convert(qubit_op)"
      ],
      "metadata": {
        "id": "50KBD8rDi2l2"
      },
      "execution_count": null,
      "outputs": []
    },
    {
      "cell_type": "code",
      "source": [
        "from qiskit.providers.fake_provider import FakeManila\n",
        "backend = Aer.get_backend('aer_simulator')\n",
        "device = FakeManila()\n",
        "NOISE_MODEL = NoiseModel.from_backend(device)\n",
        "coupling_map = device.configuration().coupling_map\n",
        "qi = QuantumInstance(backend,\n",
        "                    coupling_map=coupling_map,\n",
        "                    noise_model=NOISE_MODEL,\n",
        "                    measurement_error_mitigation_cls=CompleteMeasFitter)"
      ],
      "metadata": {
        "id": "9xqhAkpvi902"
      },
      "execution_count": null,
      "outputs": []
    },
    {
      "cell_type": "code",
      "source": [
        "exact_energies = []\n",
        "vqe_energies = []\n",
        "\n",
        "\n",
        "result = exact_solver(problem,converter)\n",
        "exact_energies.append(result.total_energies)\n",
        "\n",
        "print(\"Exact Result:\", result.total_energies)\n",
        "optimizer = SPSA(maxiter=100)\n",
        "var_form = EfficientSU2(qubit_op.num_qubits, entanglement=\"linear\")\n",
        "vqe = VQE(var_form, optimizer=optimizer,quantum_instance=qi)\n",
        "vqe_calc=vqe.compute_minimum_eigenvalue(qubit_op)\n",
        "vqe_result=np.real(problem.interpret(vqe_calc).total_energies)\n",
        "print(\"VQE Result:\", vqe_result)"
      ],
      "metadata": {
        "colab": {
          "base_uri": "https://localhost:8080/"
        },
        "id": "gaMcc-7MjA4z",
        "outputId": "f8135b05-195c-4a2e-b481-a613b7994b2b"
      },
      "execution_count": null,
      "outputs": [
        {
          "output_type": "stream",
          "name": "stdout",
          "text": [
            "Exact Result: [-1.13722138]\n",
            "VQE Result: [-1.05439222]\n"
          ]
        }
      ]
    },
    {
      "cell_type": "code",
      "source": [
        "#Hartee Fock method\n",
        "\n",
        "from pyscf import gto\n",
        "from pyscf import scf\n",
        "\n",
        "mol_h2 = gto.M(atom = 'H 0 0 0; H 0 0 0.735', basis = 'ccpvdz')\n",
        "rhf_h2 = scf.RHF(mol_h2)\n",
        "e_h2 = rhf_h2.kernel()"
      ],
      "metadata": {
        "colab": {
          "base_uri": "https://localhost:8080/"
        },
        "id": "4a_RkMO8tRzj",
        "outputId": "0f45e380-3de7-4519-dd8e-7578f12a0a80"
      },
      "execution_count": null,
      "outputs": [
        {
          "output_type": "stream",
          "name": "stdout",
          "text": [
            "converged SCF energy = -1.12862276992659\n"
          ]
        }
      ]
    }
  ]
}